{
 "cells": [
  {
   "cell_type": "markdown",
   "id": "3dc474ca-0cdf-4c93-a970-cafdeac7fbfe",
   "metadata": {},
   "source": [
    "#### To get the unique dates from order details"
   ]
  },
  {
   "cell_type": "code",
   "execution_count": null,
   "id": "de875681-0849-4c41-8ec6-11c1c53a94da",
   "metadata": {},
   "outputs": [],
   "source": [
    "file = open('E:/Data Engineering/retail_db/orders/part-00000')"
   ]
  },
  {
   "cell_type": "code",
   "execution_count": 2,
   "id": "9fd5c26d-7fec-4153-bb32-f20bbaafebdf",
   "metadata": {},
   "outputs": [],
   "source": [
    "raw_data = file.read()"
   ]
  },
  {
   "cell_type": "code",
   "execution_count": 6,
   "id": "3364186b-c352-4b1b-bfca-fde8cf8b5515",
   "metadata": {},
   "outputs": [],
   "source": [
    "orders = raw_data.splitlines()"
   ]
  },
  {
   "cell_type": "code",
   "execution_count": 8,
   "id": "f32ab6c2-da9f-48d8-b627-6878cd955039",
   "metadata": {},
   "outputs": [
    {
     "data": {
      "text/plain": [
       "'1,2013-07-25 00:00:00.0,11599,CLOSED'"
      ]
     },
     "execution_count": 8,
     "metadata": {},
     "output_type": "execute_result"
    }
   ],
   "source": [
    "orders[0]"
   ]
  },
  {
   "cell_type": "code",
   "execution_count": 9,
   "id": "40e2fcdd-acfc-4941-bcbb-9b7fb63e8e60",
   "metadata": {},
   "outputs": [],
   "source": [
    "def order_listof_dict(order):\n",
    "    order_details = order.split(',')\n",
    "    order_dict = {\n",
    "                 'order_id' : int(order_details[0]),\n",
    "                 'order_date': order_details[1],\n",
    "                 'order_amount': int(order_details[2]),\n",
    "                 'order_status': order_details[3]\n",
    "                  }\n",
    "    return order_dict"
   ]
  },
  {
   "cell_type": "code",
   "execution_count": 11,
   "id": "c4fa2f13-d9a1-41c5-bd28-19b10d9dfddc",
   "metadata": {},
   "outputs": [],
   "source": [
    "order_dict = [order_listof_dict(order) for order in orders]"
   ]
  },
  {
   "cell_type": "code",
   "execution_count": 13,
   "id": "3684b797-3a5a-474f-b318-681d5512c4cd",
   "metadata": {},
   "outputs": [],
   "source": [
    "order_date = [order['order_date'] for order in order_dict]"
   ]
  },
  {
   "cell_type": "code",
   "execution_count": 19,
   "id": "e58cfd84-c9c4-47b2-bdeb-c33c67c82dc5",
   "metadata": {},
   "outputs": [
    {
     "data": {
      "text/plain": [
       "364"
      ]
     },
     "execution_count": 19,
     "metadata": {},
     "output_type": "execute_result"
    }
   ],
   "source": [
    "len(set(order_date))"
   ]
  },
  {
   "cell_type": "code",
   "execution_count": null,
   "id": "2a041a05-f765-4515-9ae5-47c5d651b67c",
   "metadata": {},
   "outputs": [],
   "source": []
  }
 ],
 "metadata": {
  "kernelspec": {
   "display_name": "Python 3",
   "language": "python",
   "name": "python3"
  },
  "language_info": {
   "codemirror_mode": {
    "name": "ipython",
    "version": 3
   },
   "file_extension": ".py",
   "mimetype": "text/x-python",
   "name": "python",
   "nbconvert_exporter": "python",
   "pygments_lexer": "ipython3",
   "version": "3.8.8"
  }
 },
 "nbformat": 4,
 "nbformat_minor": 5
}
