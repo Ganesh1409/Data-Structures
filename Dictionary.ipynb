{
 "cells": [
  {
   "cell_type": "markdown",
   "id": "475ae1b5",
   "metadata": {},
   "source": [
    "### Dictionary\n",
    "In dictionary data is stored in the form of keys and values. Data can be fetched using the keys. Dictionaries are mutable i.e.changeable. We can add, update and remove the key-value pair. It is not only used to store the data but also used to replace if-else statements to make the code more readable."
   ]
  },
  {
   "cell_type": "code",
   "execution_count": 56,
   "id": "09e957a6",
   "metadata": {},
   "outputs": [
    {
     "name": "stdout",
     "output_type": "stream",
     "text": [
      "{'python': 1, 'R': 2, 'SAS': 3}\n",
      "{'python': 1, 'R': 2, 'SAS': 3, 'Java': 1, 'C': 2, 'SQL': 3}\n",
      "{0: 1, 1: 2, 2: 4, 3: 8, 4: 16, 5: 32, 6: 64, 7: 128, 8: 256, 9: 512}\n"
     ]
    }
   ],
   "source": [
    "#Creating dictionaries\n",
    "\n",
    "#Basic creation\n",
    "ds_language = {'python': 1, 'R':2, 'SAS' : 3} \n",
    "more_language= dict(Java=1, C=2, SQL=3)\n",
    "\n",
    "language= ('python', 'R', 'SAS')                        #language and rating are a tuple\n",
    "rating =  (1,2,3)\n",
    "\n",
    "lang_rating= dict(zip(language, rating))               #combing tuples to form dictionary\n",
    "\n",
    "\n",
    "\n",
    "#Creating by combining multiple dictionaries\n",
    "combined1 = {**ds_language, **mor_language}\n",
    "combined2 = ds_language | country                   works in python 3.9\n",
    "\n",
    "\n",
    "#creation  with dictionary comprehension\n",
    "power_of_two ={base : 2**base for base in range(10)}\n",
    "\n",
    "print(lang_rating)\n",
    "print(combined1)\n",
    "print(power_of_two)\n",
    "\n",
    "# if combined dictionaries have common keys,the last added value will be shown. First one is used for  order insertion             "
   ]
  },
  {
   "cell_type": "code",
   "execution_count": 34,
   "id": "2e2428bc",
   "metadata": {},
   "outputs": [],
   "source": [
    "#Reading from Dictionaries\n",
    "\n",
    "\n",
    "rating = combined1['python']\n",
    "rating1= combined1.get('python')                      #default is None\n",
    "rating2 = combined1.values()\n",
    "\n",
    "for key, value in combined1.items():\n",
    "    print(f\"key : {key} and value : {value}\")\n",
    "    \n",
    "for key in combined1:\n",
    "    print(key)\n",
    "    \n",
    "combined1.items()  \n",
    "combined1.values()\n",
    "combined1.keys()"
   ]
  },
  {
   "cell_type": "code",
   "execution_count": 85,
   "id": "1aadf6c5",
   "metadata": {},
   "outputs": [],
   "source": [
    "# Updating Dictionaries\n",
    "ds_language['python']=2\n",
    "ds_language.update(more_language)               #updates the ds_language\n",
    "ds_language |= more_language                    #works in python 3.9  \n",
    "\n",
    "#To remove items\n",
    "add_items = ds_language.popitem()               #removes the last added item\n",
    "\n",
    "poped_item = ds_language.pop('SQL',None)        #removes the mentioned item\n",
    "\n",
    "\n",
    "#pop and update functions will make the permanent change in the main dictionary"
   ]
  },
  {
   "cell_type": "markdown",
   "id": "7f8ef098",
   "metadata": {},
   "source": [
    "### Type annotation with dictionaries\n",
    "Type annotation is used to find the datatypes of the variables,input-outputs of functions and methods.\n",
    "ype annotations massively help us to understand code and interfaces\n",
    "\n",
    "A TypeDict is something we can use when we know the names and types of your keys in advance. To do so, we have to write a class that inherits from TypedDict, and define the keys as attributes and type annotate them with the types of the corresponding values. However their usage is rather limited and in many cases, we could use dataclasses or NamedTuples which are more feature-rich."
   ]
  },
  {
   "cell_type": "code",
   "execution_count": 23,
   "id": "686233f5",
   "metadata": {},
   "outputs": [
    {
     "data": {
      "text/plain": [
       "{'name': 'Ganesh', 'gender': 'male', 'age': 28}"
      ]
     },
     "execution_count": 23,
     "metadata": {},
     "output_type": "execute_result"
    }
   ],
   "source": [
    "from typing import Dict, TypedDict\n",
    "\n",
    "def some_function(input: Dict[str,int]) -> Dict[str,int]:\n",
    "    print(input)\n",
    "    \n",
    "\n",
    "#usinng TypedDict\n",
    "\n",
    "class MyDict(TypedDict):\n",
    "    name = str\n",
    "    age = int\n",
    "    gender = str\n",
    "    \n",
    "person = MyDict({'name':'Ganesh', 'gender':'male', 'age':28})    \n",
    "person    "
   ]
  },
  {
   "cell_type": "markdown",
   "id": "65dbea34",
   "metadata": {},
   "source": [
    "### Alternative Usage of Dictionaries \n",
    "we can use dictionaries not only to hold data but also to improve the readability of our codebase."
   ]
  },
  {
   "cell_type": "code",
   "execution_count": 1,
   "id": "15b56611",
   "metadata": {},
   "outputs": [
    {
     "ename": "SyntaxError",
     "evalue": "invalid syntax (<ipython-input-1-fa73909dd978>, line 27)",
     "output_type": "error",
     "traceback": [
      "\u001b[1;36m  File \u001b[1;32m\"<ipython-input-1-fa73909dd978>\"\u001b[1;36m, line \u001b[1;32m27\u001b[0m\n\u001b[1;33m    func load_from_redshift\u001b[0m\n\u001b[1;37m         ^\u001b[0m\n\u001b[1;31mSyntaxError\u001b[0m\u001b[1;31m:\u001b[0m invalid syntax\n"
     ]
    }
   ],
   "source": [
    "#Example 1 : we can replace certain if-else statements and make our code less verbose and cleaner\n",
    "\n",
    "\n",
    "import pandas as pd\n",
    "from datetime import datetime\n",
    "def load_from_snowflake(from_: datetime, until: datetime|None) -> pd.DataFrame:\n",
    "    ...\n",
    "\n",
    "def load_from_bigquery(from_: datetime, until: datetime|None) -> pd.DataFrame:\n",
    "    ...\n",
    "\n",
    "def load_from_redshift(from_: datetime, until: datetime|None) -> pd.DataFrame:\n",
    "    ...\n",
    "\n",
    "data_suppliers = {\n",
    "    \"snowflake\": load_from_snowflake, \n",
    "    \"bigquery\": load_from_bigquery, \n",
    "    \"redshit\": load_from_redshift\n",
    "}\n",
    "\n",
    "def load_data_verbose(data_base:str, from_: datetime, until: datetime|None = None)-> pd.DataFrame:\n",
    "    func = load_from_snowflake\n",
    "    if data_base == \"bigquery\":\n",
    "        func = load_from_bigquery\n",
    "    \n",
    "    if data_base == \"redshit\":\n",
    "        func load_from_redshift\n",
    "    \n",
    "    return func(from_, until)\n",
    "\n",
    "\n",
    "def load_data(data_base:str, from_: datetime, until: datetime|None = None)-> pd.DataFrame:\n",
    "    return data_suppliers.get(data_base, load_from_snowflake)(from_, until)\n",
    "\n",
    "\n",
    "data = load_date(\"bigquery\", datetime.utcnow())\n",
    "\n",
    "\n",
    "\n",
    "#example2: we can use dictionaries to specify keyword arguments when calling functions. \n",
    "#Taking the example from above, we can define a dictionary \n",
    "\n",
    "call_args={\"data_base\":\"snowflake\", \"from_\": datetime.utcnow()}\n",
    "\n",
    "# use that to call the load_data function\n",
    "data = load_data(**call_args)\n"
   ]
  },
  {
   "cell_type": "markdown",
   "id": "0b16f13a",
   "metadata": {},
   "source": [
    "#### Sort values of a dictionary"
   ]
  },
  {
   "cell_type": "code",
   "execution_count": 9,
   "id": "20f920b8",
   "metadata": {},
   "outputs": [
    {
     "name": "stdout",
     "output_type": "stream",
     "text": [
      "[('B', 1), ('D', 2), ('E', 3), ('A', 4), ('C', 6)]\n",
      "[('C', 6), ('A', 4), ('E', 3), ('D', 2), ('B', 1)]\n"
     ]
    }
   ],
   "source": [
    "import operator\n",
    "\n",
    "x= {'A':4, 'B':1, 'C':6, 'D':2, 'E':3}\n",
    "\n",
    "Asc = sorted(x.items(), key= operator.itemgetter(1))\n",
    "print(Asc)\n",
    "\n",
    "Desc = sorted(x.items(), key= operator.itemgetter(1), reverse=True)\n",
    "print(Desc)\n"
   ]
  },
  {
   "cell_type": "markdown",
   "id": "e4f77e51",
   "metadata": {},
   "source": [
    "#### Covert lists into list of dictionaries"
   ]
  },
  {
   "cell_type": "code",
   "execution_count": 11,
   "id": "c4f65e1a",
   "metadata": {},
   "outputs": [
    {
     "name": "stdout",
     "output_type": "stream",
     "text": [
      "[{'name': 'Ravi', 'age': 28}, {'name': 'Raj', 'age': 25}, {'name': 'Rama', 'age': 26}, {'name': 'Raghu', 'age': 24}]\n"
     ]
    }
   ],
   "source": [
    "list1 = ['Ravi','Raj','Rama','Raghu']\n",
    "list2 = [28,25,26,24]\n",
    "\n",
    "print([{'name': f,'age':c} for f,c in zip(list1,list2)])"
   ]
  },
  {
   "cell_type": "code",
   "execution_count": null,
   "id": "97aa47bb",
   "metadata": {},
   "outputs": [],
   "source": []
  },
  {
   "cell_type": "code",
   "execution_count": null,
   "id": "a92a9466",
   "metadata": {},
   "outputs": [],
   "source": []
  },
  {
   "cell_type": "code",
   "execution_count": null,
   "id": "9329132b",
   "metadata": {},
   "outputs": [],
   "source": []
  }
 ],
 "metadata": {
  "kernelspec": {
   "display_name": "Python 3",
   "language": "python",
   "name": "python3"
  },
  "language_info": {
   "codemirror_mode": {
    "name": "ipython",
    "version": 3
   },
   "file_extension": ".py",
   "mimetype": "text/x-python",
   "name": "python",
   "nbconvert_exporter": "python",
   "pygments_lexer": "ipython3",
   "version": "3.8.8"
  }
 },
 "nbformat": 4,
 "nbformat_minor": 5
}
