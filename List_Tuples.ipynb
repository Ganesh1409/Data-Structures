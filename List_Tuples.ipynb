{
 "cells": [
  {
   "cell_type": "markdown",
   "id": "69cac520-b2a6-447d-9515-3f167a1c88df",
   "metadata": {},
   "source": [
    "### List Of Tuples\n",
    "\n",
    "Lets explore this with a problem statement.\n",
    "\n",
    "Statement : Get the unique dates from the text wrapped file containing Order details"
   ]
  },
  {
   "cell_type": "code",
   "execution_count": 1,
   "id": "fc0febc6-d136-4909-bbf8-cec4964c0eec",
   "metadata": {},
   "outputs": [],
   "source": [
    "path = open('E:/Data Engineering/retail_db/orders/part-00000')"
   ]
  },
  {
   "cell_type": "code",
   "execution_count": 2,
   "id": "67748b5f-0125-40c8-852c-6097afd9987a",
   "metadata": {},
   "outputs": [],
   "source": [
    "raw_data = path.read()"
   ]
  },
  {
   "cell_type": "code",
   "execution_count": 3,
   "id": "0c287139-89d1-42ae-9004-c3e69fa7fcb6",
   "metadata": {},
   "outputs": [
    {
     "data": {
      "text/plain": [
       "str"
      ]
     },
     "execution_count": 3,
     "metadata": {},
     "output_type": "execute_result"
    }
   ],
   "source": [
    "type(raw_data)"
   ]
  },
  {
   "cell_type": "code",
   "execution_count": 7,
   "id": "f77aa8be-e338-4056-9c1a-059540010199",
   "metadata": {},
   "outputs": [],
   "source": [
    "#Convert the string to list of strings\n",
    "orders = raw_data.splitlines() "
   ]
  },
  {
   "cell_type": "code",
   "execution_count": 10,
   "id": "dfdf875d-2618-4a6a-b1a2-14de13104a78",
   "metadata": {},
   "outputs": [],
   "source": [
    "#convert the list of strings too list of tuples\n",
    "order_tuples = [(*order.split(','),) for order in orders]"
   ]
  },
  {
   "cell_type": "code",
   "execution_count": 12,
   "id": "666446ea-1613-4028-b286-c7a04aa7f6fd",
   "metadata": {},
   "outputs": [
    {
     "data": {
      "text/plain": [
       "[('1', '2013-07-25 00:00:00.0', '11599', 'CLOSED'),\n",
       " ('2', '2013-07-25 00:00:00.0', '256', 'PENDING_PAYMENT'),\n",
       " ('3', '2013-07-25 00:00:00.0', '12111', 'COMPLETE'),\n",
       " ('4', '2013-07-25 00:00:00.0', '8827', 'CLOSED'),\n",
       " ('5', '2013-07-25 00:00:00.0', '11318', 'COMPLETE')]"
      ]
     },
     "execution_count": 12,
     "metadata": {},
     "output_type": "execute_result"
    }
   ],
   "source": [
    "order_tuples[0:5]"
   ]
  },
  {
   "cell_type": "code",
   "execution_count": 13,
   "id": "6c071e09-4788-443e-8e13-705a4519fa76",
   "metadata": {},
   "outputs": [],
   "source": [
    "order_date = [order[1] for order in order_tuples]"
   ]
  },
  {
   "cell_type": "code",
   "execution_count": 14,
   "id": "4250a8c8-3977-4e72-95bd-7f94d25fecdf",
   "metadata": {},
   "outputs": [],
   "source": [
    "unique_dates = set(order_date)"
   ]
  },
  {
   "cell_type": "code",
   "execution_count": 15,
   "id": "128d43ad-ec86-47c4-b116-7791237d2c43",
   "metadata": {},
   "outputs": [
    {
     "data": {
      "text/plain": [
       "364"
      ]
     },
     "execution_count": 15,
     "metadata": {},
     "output_type": "execute_result"
    }
   ],
   "source": [
    "len(unique_dates)"
   ]
  },
  {
   "cell_type": "markdown",
   "id": "e660602d-0e39-4ee4-b1ce-da387eae9e9c",
   "metadata": {},
   "source": [
    "#### we can change the dtypes of the elements in the tuple as below"
   ]
  },
  {
   "cell_type": "code",
   "execution_count": 18,
   "id": "552ebc1f-0b28-4e90-b3f2-8bdae21eb4eb",
   "metadata": {},
   "outputs": [],
   "source": [
    "def get_order_details(order):\n",
    "    order_details = order.split(',')\n",
    "    return (int(order_details[0]), order_details[1], int(order_details[2]), order_details[3])\n",
    "    "
   ]
  },
  {
   "cell_type": "code",
   "execution_count": 22,
   "id": "d618467a-dcb8-4291-9c0e-e75bdae4da16",
   "metadata": {},
   "outputs": [],
   "source": [
    "order_tuples = [get_order_details(order) for order in orders]"
   ]
  },
  {
   "cell_type": "code",
   "execution_count": 25,
   "id": "d32c0132-9a70-4172-a0e9-82ca413c3ebf",
   "metadata": {},
   "outputs": [
    {
     "data": {
      "text/plain": [
       "[(1, '2013-07-25 00:00:00.0', 11599, 'CLOSED'),\n",
       " (2, '2013-07-25 00:00:00.0', 256, 'PENDING_PAYMENT'),\n",
       " (3, '2013-07-25 00:00:00.0', 12111, 'COMPLETE'),\n",
       " (4, '2013-07-25 00:00:00.0', 8827, 'CLOSED'),\n",
       " (5, '2013-07-25 00:00:00.0', 11318, 'COMPLETE')]"
      ]
     },
     "execution_count": 25,
     "metadata": {},
     "output_type": "execute_result"
    }
   ],
   "source": [
    "order_tuples[0:5]"
   ]
  },
  {
   "cell_type": "code",
   "execution_count": 20,
   "id": "169bee51-b856-4fb5-9b12-ecf85bbd10d0",
   "metadata": {},
   "outputs": [],
   "source": [
    "order_date = set(order[1] for order in order_tuples)"
   ]
  },
  {
   "cell_type": "code",
   "execution_count": 21,
   "id": "2e0ba385-5627-43e3-8bd3-47cd04a5a134",
   "metadata": {},
   "outputs": [
    {
     "data": {
      "text/plain": [
       "364"
      ]
     },
     "execution_count": 21,
     "metadata": {},
     "output_type": "execute_result"
    }
   ],
   "source": [
    "len(order_date)"
   ]
  },
  {
   "cell_type": "code",
   "execution_count": null,
   "id": "69192088-ef76-44d1-9300-9bb3bd0553eb",
   "metadata": {},
   "outputs": [],
   "source": []
  }
 ],
 "metadata": {
  "kernelspec": {
   "display_name": "Python 3",
   "language": "python",
   "name": "python3"
  },
  "language_info": {
   "codemirror_mode": {
    "name": "ipython",
    "version": 3
   },
   "file_extension": ".py",
   "mimetype": "text/x-python",
   "name": "python",
   "nbconvert_exporter": "python",
   "pygments_lexer": "ipython3",
   "version": "3.8.8"
  }
 },
 "nbformat": 4,
 "nbformat_minor": 5
}
